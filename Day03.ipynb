{
 "cells": [
  {
   "cell_type": "markdown",
   "id": "44a95fed-9c9b-4951-882a-0c319719196e",
   "metadata": {},
   "source": [
    "# Numpy Array Properties & Attributes\n"
   ]
  },
  {
   "cell_type": "markdown",
   "id": "b82696d9-1de9-4012-aeb9-36993be947d8",
   "metadata": {},
   "source": [
    "## 1)Shape"
   ]
  },
  {
   "cell_type": "code",
   "execution_count": 1,
   "id": "f8b6cc8a-e138-450e-98a0-01b8e12d113b",
   "metadata": {},
   "outputs": [],
   "source": [
    "import numpy as np"
   ]
  },
  {
   "cell_type": "code",
   "execution_count": 2,
   "id": "dad3f9ae-5da7-45d6-9f54-cc507678cd7d",
   "metadata": {},
   "outputs": [
    {
     "data": {
      "text/plain": [
       "array([1, 2, 3, 4, 5])"
      ]
     },
     "execution_count": 2,
     "metadata": {},
     "output_type": "execute_result"
    }
   ],
   "source": [
    "arr1 = np.array([1,2,3,4,5])"
   ]
  },
  {
   "cell_type": "code",
   "execution_count": 4,
   "id": "8dc7f296-5cb7-4b59-a21f-0cb6bc07e865",
   "metadata": {},
   "outputs": [
    {
     "data": {
      "text/plain": [
       "(5,)"
      ]
     },
     "execution_count": 4,
     "metadata": {},
     "output_type": "execute_result"
    }
   ],
   "source": [
    "arr1.shape"
   ]
  },
  {
   "cell_type": "code",
   "execution_count": 6,
   "id": "8b527e61-f369-46f3-8f1b-796d80adfa4b",
   "metadata": {},
   "outputs": [
    {
     "ename": "TypeError",
     "evalue": "Field elements must be 2- or 3-tuples, got '5'",
     "output_type": "error",
     "traceback": [
      "\u001b[0;31m---------------------------------------------------------------------------\u001b[0m",
      "\u001b[0;31mTypeError\u001b[0m                                 Traceback (most recent call last)",
      "Cell \u001b[0;32mIn[6], line 1\u001b[0m\n\u001b[0;32m----> 1\u001b[0m arr2 \u001b[38;5;241m=\u001b[39m np\u001b[38;5;241m.\u001b[39marray([\u001b[38;5;241m1\u001b[39m,\u001b[38;5;241m2\u001b[39m,\u001b[38;5;241m3\u001b[39m,\u001b[38;5;241m4\u001b[39m],[\u001b[38;5;241m5\u001b[39m,\u001b[38;5;241m6\u001b[39m])\n\u001b[1;32m      2\u001b[0m arr2\u001b[38;5;241m.\u001b[39mshape\n",
      "\u001b[0;31mTypeError\u001b[0m: Field elements must be 2- or 3-tuples, got '5'"
     ]
    }
   ],
   "source": [
    "arr2 = np.array([[1,2,3,4],[5,6]])\n",
    "arr2.shape"
   ]
  },
  {
   "cell_type": "code",
   "execution_count": 9,
   "id": "a469f63e-fac4-4a06-a1da-29aba91cfe43",
   "metadata": {},
   "outputs": [
    {
     "data": {
      "text/plain": [
       "(2, 3)"
      ]
     },
     "execution_count": 9,
     "metadata": {},
     "output_type": "execute_result"
    }
   ],
   "source": [
    "arr3 = np.array([[1,2,3],[4,5,6]])\n",
    "arr3.shape"
   ]
  },
  {
   "cell_type": "markdown",
   "id": "adadb5c2-9c00-4fd1-9ff2-a5b871263b8d",
   "metadata": {},
   "source": [
    "###### Shape attribute is basically use for to find number Rows,column and number of matrix but the number of rows and columns must be same otherwise it will give an error as given on arr2"
   ]
  },
  {
   "cell_type": "code",
   "execution_count": 11,
   "id": "0c2579c0-b3b1-4c20-aff5-a299e58450fe",
   "metadata": {},
   "outputs": [
    {
     "data": {
      "text/plain": [
       "array([[[1, 2],\n",
       "        [3, 4]],\n",
       "\n",
       "       [[5, 6],\n",
       "        [7, 8]]])"
      ]
     },
     "execution_count": 11,
     "metadata": {},
     "output_type": "execute_result"
    }
   ],
   "source": [
    "arr4 = np.array([[[1,2],[3,4]],\n",
    "                 [[5,6],[7,8]]] ,dtype = np.int8)\n",
    "arr4"
   ]
  },
  {
   "cell_type": "code",
   "execution_count": 14,
   "id": "ee2fdfdb-43b4-434a-9d76-f8971c684cf7",
   "metadata": {},
   "outputs": [
    {
     "data": {
      "text/plain": [
       "(2, 2, 2)"
      ]
     },
     "execution_count": 14,
     "metadata": {},
     "output_type": "execute_result"
    }
   ],
   "source": [
    "arr4.shape"
   ]
  },
  {
   "cell_type": "markdown",
   "id": "fca6fb26-ca5a-442d-921d-ab1ecb603bd0",
   "metadata": {},
   "source": [
    "## 2) ndim is used for to find the dimensions of the given array"
   ]
  },
  {
   "cell_type": "code",
   "execution_count": 17,
   "id": "bdade879-355f-4ace-9e6c-e9f21132298c",
   "metadata": {},
   "outputs": [
    {
     "data": {
      "text/plain": [
       "3"
      ]
     },
     "execution_count": 17,
     "metadata": {},
     "output_type": "execute_result"
    }
   ],
   "source": [
    "arr4.ndim"
   ]
  },
  {
   "cell_type": "code",
   "execution_count": 18,
   "id": "11b8c5d0-fb13-45d8-83c7-cad46301ecd9",
   "metadata": {},
   "outputs": [
    {
     "data": {
      "text/plain": [
       "2"
      ]
     },
     "execution_count": 18,
     "metadata": {},
     "output_type": "execute_result"
    }
   ],
   "source": [
    "arr3.ndim"
   ]
  },
  {
   "cell_type": "markdown",
   "id": "522b7695-f27d-4caf-a3e4-8152ca3413c5",
   "metadata": {},
   "source": [
    "## 3) Next is Size and Itemsize size is used for that how many items are there in the given array \n",
    "## 4) while In NumPy, itemsize refers to the size in bytes of a single element within a NumPy array. It indicates the memory occupied by each individual item, not the total number of items or the array's dimensions"
   ]
  },
  {
   "cell_type": "code",
   "execution_count": 28,
   "id": "936683ac-44fc-4c28-854c-0f67be6f0938",
   "metadata": {},
   "outputs": [
    {
     "data": {
      "text/plain": [
       "5"
      ]
     },
     "execution_count": 28,
     "metadata": {},
     "output_type": "execute_result"
    }
   ],
   "source": [
    "arr1.size"
   ]
  },
  {
   "cell_type": "markdown",
   "id": "7966e951-473e-42d4-806c-94a67db09463",
   "metadata": {},
   "source": [
    "##### there are 5 iteams in arr1"
   ]
  },
  {
   "cell_type": "code",
   "execution_count": 30,
   "id": "2294e831-15c7-4011-9f8e-4f1c26a7abd1",
   "metadata": {},
   "outputs": [
    {
     "data": {
      "text/plain": [
       "8"
      ]
     },
     "execution_count": 30,
     "metadata": {},
     "output_type": "execute_result"
    }
   ],
   "source": [
    "arr4.itemsize"
   ]
  },
  {
   "cell_type": "markdown",
   "id": "44ef2585-837a-42fa-9ff6-bec35227de0d",
   "metadata": {},
   "source": [
    "## 5) Dtype is used for to describes the following aspects of the data: Type of the data (integer, float, Python object, etc.)"
   ]
  },
  {
   "cell_type": "code",
   "execution_count": 33,
   "id": "31a1abfc-698e-4671-a300-4d3e90f493c3",
   "metadata": {},
   "outputs": [
    {
     "data": {
      "text/plain": [
       "dtype('int64')"
      ]
     },
     "execution_count": 33,
     "metadata": {},
     "output_type": "execute_result"
    }
   ],
   "source": [
    "arr1.dtype"
   ]
  },
  {
   "cell_type": "markdown",
   "id": "e5a178d5-6e0b-4744-9952-53f0e3d1eae5",
   "metadata": {},
   "source": [
    "##### int is datatype and 64 is memory occoupied space we can change it manually means we can convert from bit to bytes"
   ]
  },
  {
   "cell_type": "code",
   "execution_count": 34,
   "id": "0a8eca6e-2f92-4396-963d-0bcc2f2207cc",
   "metadata": {},
   "outputs": [
    {
     "data": {
      "text/plain": [
       "1"
      ]
     },
     "execution_count": 34,
     "metadata": {},
     "output_type": "execute_result"
    }
   ],
   "source": [
    "arr5 = np.array([1,2,3] , dtype = np.int8)\n",
    "arr5.itemsize"
   ]
  },
  {
   "cell_type": "markdown",
   "id": "461eaeed-6a32-406e-b81c-a220b6f4f4ff",
   "metadata": {},
   "source": [
    "## 6) astype is used for the conversion of the datatpye of a give array"
   ]
  },
  {
   "cell_type": "code",
   "execution_count": 40,
   "id": "d561a10c-5a77-4abd-9b62-e02826da316c",
   "metadata": {},
   "outputs": [
    {
     "data": {
      "text/plain": [
       "array([ 1, 34, 56, 23])"
      ]
     },
     "execution_count": 40,
     "metadata": {},
     "output_type": "execute_result"
    }
   ],
   "source": [
    "arr6 = np.array([1,34,56,23])\n",
    "arr6"
   ]
  },
  {
   "cell_type": "code",
   "execution_count": 41,
   "id": "87412db5-5db1-4c30-b658-05d8393812de",
   "metadata": {},
   "outputs": [
    {
     "data": {
      "text/plain": [
       "array([ 1., 34., 56., 23.])"
      ]
     },
     "execution_count": 41,
     "metadata": {},
     "output_type": "execute_result"
    }
   ],
   "source": [
    "arr6.astype('float')"
   ]
  },
  {
   "cell_type": "code",
   "execution_count": null,
   "id": "a6b6d0e0-3e61-47b2-a39b-c5d1bcc12ecc",
   "metadata": {},
   "outputs": [],
   "source": []
  }
 ],
 "metadata": {
  "kernelspec": {
   "display_name": "Python 3 (ipykernel)",
   "language": "python",
   "name": "python3"
  },
  "language_info": {
   "codemirror_mode": {
    "name": "ipython",
    "version": 3
   },
   "file_extension": ".py",
   "mimetype": "text/x-python",
   "name": "python",
   "nbconvert_exporter": "python",
   "pygments_lexer": "ipython3",
   "version": "3.12.7"
  }
 },
 "nbformat": 4,
 "nbformat_minor": 5
}
